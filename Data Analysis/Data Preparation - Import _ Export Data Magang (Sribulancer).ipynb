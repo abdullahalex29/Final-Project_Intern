{
  "nbformat": 4,
  "nbformat_minor": 0,
  "metadata": {
    "colab": {
      "provenance": []
    },
    "kernelspec": {
      "name": "python3",
      "display_name": "Python 3"
    },
    "language_info": {
      "name": "python"
    }
  },
  "cells": [
    {
      "cell_type": "markdown",
      "source": [
        "## **Import Packages**"
      ],
      "metadata": {
        "id": "VLczN8zsRaPZ"
      }
    },
    {
      "cell_type": "code",
      "execution_count": null,
      "metadata": {
        "id": "XGX0wixAtEg4",
        "colab": {
          "base_uri": "https://localhost:8080/"
        },
        "outputId": "0e46d849-8b7b-4610-f11d-bd068f0e8c35"
      },
      "outputs": [
        {
          "output_type": "stream",
          "name": "stdout",
          "text": [
            "Mounted at /content/gdrive\n"
          ]
        }
      ],
      "source": [
        "from google.colab import drive\n",
        "drive.mount('/content/gdrive')"
      ]
    },
    {
      "cell_type": "code",
      "execution_count": null,
      "metadata": {
        "id": "APjqCliNtaa1"
      },
      "outputs": [],
      "source": [
        "import os\n",
        "import sqlite3\n",
        "import pandas as pd\n",
        "from datetime import datetime as dt\n",
        "from datetime import date \n",
        "import numpy as np\n",
        "import seaborn as sns\n",
        "import matplotlib.pyplot as plt\n",
        "import plotly.express as px\n",
        "import plotly.graph_objects as go"
      ]
    },
    {
      "cell_type": "markdown",
      "source": [
        "## **Import Data**"
      ],
      "metadata": {
        "id": "84j9lvihMDPe"
      }
    },
    {
      "cell_type": "code",
      "execution_count": null,
      "metadata": {
        "id": "OZd45-5-uHDf"
      },
      "outputs": [],
      "source": [
        "path = 'gdrive/MyDrive/Magang Sribulancer/'"
      ]
    },
    {
      "cell_type": "code",
      "execution_count": null,
      "metadata": {
        "id": "DtX5HkYmudsy",
        "colab": {
          "base_uri": "https://localhost:8080/"
        },
        "outputId": "b65daaf0-624e-4e19-d0e8-922a78f52a4c"
      },
      "outputs": [
        {
          "output_type": "execute_result",
          "data": {
            "text/plain": [
              "['jobs.csv',\n",
              " 'clients.csv',\n",
              " 'freelancers.csv',\n",
              " 'applicants.csv',\n",
              " 'workspaces.csv',\n",
              " 'jobs (1).gsheet',\n",
              " 'clients (1).gsheet',\n",
              " 'workspaces (2).gsheet',\n",
              " 'clients.gsheet',\n",
              " 'jobs.gsheet',\n",
              " 'workspaces (1).gsheet',\n",
              " 'applicants.gsheet',\n",
              " 'freelancers.gsheet',\n",
              " 'workspaces.gsheet']"
            ]
          },
          "metadata": {},
          "execution_count": 4
        }
      ],
      "source": [
        "os.listdir(path)"
      ]
    },
    {
      "cell_type": "code",
      "execution_count": null,
      "metadata": {
        "id": "h1uVXLRauxYU"
      },
      "outputs": [],
      "source": [
        "df_fl = pd.read_csv(path + 'freelancers.csv')\n",
        "df_ja = pd.read_csv(path + 'applicants.csv')\n",
        "df_job = pd.read_csv(path + 'jobs.csv')\n",
        "df_cl = pd.read_csv(path + 'clients.csv')\n",
        "df_ws = pd.read_csv(path + 'workspaces.csv')"
      ]
    },
    {
      "cell_type": "markdown",
      "source": [
        "## **Export Data**"
      ],
      "metadata": {
        "id": "dUfgYWOEQLJh"
      }
    },
    {
      "cell_type": "code",
      "source": [
        "df_fl.to_csv(path + 'freelancers_clean.csv')\n",
        "df_ja.to_csv(path + 'applicants_clean.csv')\n",
        "df_job.to_csv(path + 'jobs_clean.csv')\n",
        "df_cl.to_csv(path + 'clients_clean.csv')\n",
        "df_ws.to_csv(path + 'workspaces_clean.csv')"
      ],
      "metadata": {
        "id": "jiFzSHwAQcni"
      },
      "execution_count": null,
      "outputs": []
    }
  ]
}